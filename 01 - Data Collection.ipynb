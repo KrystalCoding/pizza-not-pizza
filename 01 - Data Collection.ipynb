{
 "cells": [
  {
   "cell_type": "markdown",
   "metadata": {
    "id": "0aStgWSO0E0E"
   },
   "source": [
    "# **Data Collection**"
   ]
  },
  {
   "cell_type": "markdown",
   "metadata": {
    "id": "1eLEkw5O0ECa"
   },
   "source": [
    "## Objectives\n",
    "\n",
    "* Fetch data from Kaggle and prepare it for further processing.\n",
    "\n",
    "## Inputs\n",
    "\n",
    "* Kaggle JSON file -  authentication token.\n",
    "\n",
    "## Outputs\n",
    "\n",
    "* Generate Dataset: inputs/datasets/carlosrunner/pizza-not-pizza\n",
    "\n",
    "## Additional Comments\n",
    "\n",
    "* \n",
    "\n"
   ]
  },
  {
   "cell_type": "markdown",
   "metadata": {
    "id": "9uWZXH9LwoQg"
   },
   "source": [
    "---"
   ]
  },
  {
   "cell_type": "markdown",
   "metadata": {},
   "source": [
    "## Import packages"
   ]
  },
  {
   "cell_type": "code",
   "execution_count": 1,
   "metadata": {},
   "outputs": [
    {
     "name": "stdout",
     "output_type": "stream",
     "text": [
      "Requirement already satisfied: numpy==1.19.2 in /home/codeany/.local/lib/python3.8/site-packages (from -r /workspaces/data-analytics/requirements.txt (line 1)) (1.19.2)\n",
      "Requirement already satisfied: pandas==1.1.2 in /home/codeany/.local/lib/python3.8/site-packages (from -r /workspaces/data-analytics/requirements.txt (line 2)) (1.1.2)\n",
      "Requirement already satisfied: matplotlib==3.3.1 in /home/codeany/.local/lib/python3.8/site-packages (from -r /workspaces/data-analytics/requirements.txt (line 3)) (3.3.1)\n",
      "Requirement already satisfied: seaborn==0.11.0 in /home/codeany/.local/lib/python3.8/site-packages (from -r /workspaces/data-analytics/requirements.txt (line 4)) (0.11.0)\n",
      "Requirement already satisfied: plotly==4.12.0 in /home/codeany/.local/lib/python3.8/site-packages (from -r /workspaces/data-analytics/requirements.txt (line 5)) (4.12.0)\n",
      "Requirement already satisfied: streamlit==0.85.0 in /home/codeany/.local/lib/python3.8/site-packages (from -r /workspaces/data-analytics/requirements.txt (line 7)) (0.85.0)\n",
      "Requirement already satisfied: scikit-learn==0.24.2 in /home/codeany/.local/lib/python3.8/site-packages (from -r /workspaces/data-analytics/requirements.txt (line 9)) (0.24.2)\n",
      "Requirement already satisfied: tensorflow-cpu==2.6.0 in /home/codeany/.local/lib/python3.8/site-packages (from -r /workspaces/data-analytics/requirements.txt (line 10)) (2.6.0)\n",
      "Requirement already satisfied: keras==2.6.0 in /home/codeany/.local/lib/python3.8/site-packages (from -r /workspaces/data-analytics/requirements.txt (line 11)) (2.6.0)\n",
      "Requirement already satisfied: protobuf==3.20 in /home/codeany/.local/lib/python3.8/site-packages (from -r /workspaces/data-analytics/requirements.txt (line 12)) (3.20.0)\n",
      "Requirement already satisfied: altair<5 in /home/codeany/.local/lib/python3.8/site-packages (from -r /workspaces/data-analytics/requirements.txt (line 13)) (4.2.2)\n",
      "Requirement already satisfied: python-dateutil>=2.7.3 in /home/codeany/.pyenv/versions/3.8.12/lib/python3.8/site-packages (from pandas==1.1.2->-r /workspaces/data-analytics/requirements.txt (line 2)) (2.8.2)\n",
      "Requirement already satisfied: pytz>=2017.2 in /home/codeany/.pyenv/versions/3.8.12/lib/python3.8/site-packages (from pandas==1.1.2->-r /workspaces/data-analytics/requirements.txt (line 2)) (2023.3.post1)\n",
      "Requirement already satisfied: certifi>=2020.06.20 in /home/codeany/.pyenv/versions/3.8.12/lib/python3.8/site-packages (from matplotlib==3.3.1->-r /workspaces/data-analytics/requirements.txt (line 3)) (2023.7.22)\n",
      "Requirement already satisfied: cycler>=0.10 in /home/codeany/.local/lib/python3.8/site-packages (from matplotlib==3.3.1->-r /workspaces/data-analytics/requirements.txt (line 3)) (0.12.1)\n",
      "Requirement already satisfied: kiwisolver>=1.0.1 in /home/codeany/.local/lib/python3.8/site-packages (from matplotlib==3.3.1->-r /workspaces/data-analytics/requirements.txt (line 3)) (1.4.5)\n",
      "Requirement already satisfied: pillow>=6.2.0 in /home/codeany/.local/lib/python3.8/site-packages (from matplotlib==3.3.1->-r /workspaces/data-analytics/requirements.txt (line 3)) (10.1.0)\n",
      "Requirement already satisfied: pyparsing!=2.0.4,!=2.1.2,!=2.1.6,>=2.0.3 in /home/codeany/.local/lib/python3.8/site-packages (from matplotlib==3.3.1->-r /workspaces/data-analytics/requirements.txt (line 3)) (3.1.1)\n",
      "Requirement already satisfied: scipy>=1.0 in /home/codeany/.local/lib/python3.8/site-packages (from seaborn==0.11.0->-r /workspaces/data-analytics/requirements.txt (line 4)) (1.9.3)\n",
      "Requirement already satisfied: retrying>=1.3.3 in /home/codeany/.local/lib/python3.8/site-packages (from plotly==4.12.0->-r /workspaces/data-analytics/requirements.txt (line 5)) (1.3.4)\n",
      "Requirement already satisfied: six in /home/codeany/.local/lib/python3.8/site-packages (from plotly==4.12.0->-r /workspaces/data-analytics/requirements.txt (line 5)) (1.15.0)\n",
      "Requirement already satisfied: astor in /home/codeany/.local/lib/python3.8/site-packages (from streamlit==0.85.0->-r /workspaces/data-analytics/requirements.txt (line 7)) (0.8.1)\n",
      "Requirement already satisfied: attrs in /home/codeany/.pyenv/versions/3.8.12/lib/python3.8/site-packages (from streamlit==0.85.0->-r /workspaces/data-analytics/requirements.txt (line 7)) (23.1.0)\n",
      "Requirement already satisfied: base58 in /home/codeany/.local/lib/python3.8/site-packages (from streamlit==0.85.0->-r /workspaces/data-analytics/requirements.txt (line 7)) (2.1.1)\n",
      "Requirement already satisfied: blinker in /home/codeany/.local/lib/python3.8/site-packages (from streamlit==0.85.0->-r /workspaces/data-analytics/requirements.txt (line 7)) (1.6.3)\n",
      "Requirement already satisfied: cachetools>=4.0 in /home/codeany/.local/lib/python3.8/site-packages (from streamlit==0.85.0->-r /workspaces/data-analytics/requirements.txt (line 7)) (5.3.1)\n",
      "Requirement already satisfied: click<8.0,>=7.0 in /home/codeany/.local/lib/python3.8/site-packages (from streamlit==0.85.0->-r /workspaces/data-analytics/requirements.txt (line 7)) (7.1.2)\n",
      "Requirement already satisfied: packaging in /home/codeany/.pyenv/versions/3.8.12/lib/python3.8/site-packages (from streamlit==0.85.0->-r /workspaces/data-analytics/requirements.txt (line 7)) (23.2)\n",
      "Requirement already satisfied: pyarrow in /home/codeany/.local/lib/python3.8/site-packages (from streamlit==0.85.0->-r /workspaces/data-analytics/requirements.txt (line 7)) (13.0.0)\n",
      "Requirement already satisfied: pydeck>=0.1.dev5 in /home/codeany/.local/lib/python3.8/site-packages (from streamlit==0.85.0->-r /workspaces/data-analytics/requirements.txt (line 7)) (0.8.1b0)\n",
      "Requirement already satisfied: requests in /home/codeany/.pyenv/versions/3.8.12/lib/python3.8/site-packages (from streamlit==0.85.0->-r /workspaces/data-analytics/requirements.txt (line 7)) (2.31.0)\n",
      "Requirement already satisfied: toml in /home/codeany/.local/lib/python3.8/site-packages (from streamlit==0.85.0->-r /workspaces/data-analytics/requirements.txt (line 7)) (0.10.2)\n",
      "Requirement already satisfied: tornado>=5.0 in /home/codeany/.pyenv/versions/3.8.12/lib/python3.8/site-packages (from streamlit==0.85.0->-r /workspaces/data-analytics/requirements.txt (line 7)) (6.3.3)\n",
      "Requirement already satisfied: tzlocal in /home/codeany/.local/lib/python3.8/site-packages (from streamlit==0.85.0->-r /workspaces/data-analytics/requirements.txt (line 7)) (5.1)\n",
      "Requirement already satisfied: validators in /home/codeany/.local/lib/python3.8/site-packages (from streamlit==0.85.0->-r /workspaces/data-analytics/requirements.txt (line 7)) (0.22.0)\n",
      "Requirement already satisfied: gitpython in /home/codeany/.pyenv/versions/3.8.12/lib/python3.8/site-packages (from streamlit==0.85.0->-r /workspaces/data-analytics/requirements.txt (line 7)) (3.1.37)\n",
      "Requirement already satisfied: watchdog in /home/codeany/.local/lib/python3.8/site-packages (from streamlit==0.85.0->-r /workspaces/data-analytics/requirements.txt (line 7)) (3.0.0)\n",
      "Requirement already satisfied: joblib>=0.11 in /home/codeany/.local/lib/python3.8/site-packages (from scikit-learn==0.24.2->-r /workspaces/data-analytics/requirements.txt (line 9)) (1.3.2)\n",
      "Requirement already satisfied: threadpoolctl>=2.0.0 in /home/codeany/.local/lib/python3.8/site-packages (from scikit-learn==0.24.2->-r /workspaces/data-analytics/requirements.txt (line 9)) (3.2.0)\n",
      "Requirement already satisfied: absl-py~=0.10 in /home/codeany/.local/lib/python3.8/site-packages (from tensorflow-cpu==2.6.0->-r /workspaces/data-analytics/requirements.txt (line 10)) (0.15.0)\n",
      "Requirement already satisfied: astunparse~=1.6.3 in /home/codeany/.local/lib/python3.8/site-packages (from tensorflow-cpu==2.6.0->-r /workspaces/data-analytics/requirements.txt (line 10)) (1.6.3)\n",
      "Requirement already satisfied: clang~=5.0 in /home/codeany/.local/lib/python3.8/site-packages (from tensorflow-cpu==2.6.0->-r /workspaces/data-analytics/requirements.txt (line 10)) (5.0)\n",
      "Requirement already satisfied: flatbuffers~=1.12.0 in /home/codeany/.local/lib/python3.8/site-packages (from tensorflow-cpu==2.6.0->-r /workspaces/data-analytics/requirements.txt (line 10)) (1.12)\n",
      "Requirement already satisfied: google-pasta~=0.2 in /home/codeany/.local/lib/python3.8/site-packages (from tensorflow-cpu==2.6.0->-r /workspaces/data-analytics/requirements.txt (line 10)) (0.2.0)\n",
      "Requirement already satisfied: h5py~=3.1.0 in /home/codeany/.local/lib/python3.8/site-packages (from tensorflow-cpu==2.6.0->-r /workspaces/data-analytics/requirements.txt (line 10)) (3.1.0)\n",
      "Requirement already satisfied: keras-preprocessing~=1.1.2 in /home/codeany/.local/lib/python3.8/site-packages (from tensorflow-cpu==2.6.0->-r /workspaces/data-analytics/requirements.txt (line 10)) (1.1.2)\n",
      "Requirement already satisfied: opt-einsum~=3.3.0 in /home/codeany/.local/lib/python3.8/site-packages (from tensorflow-cpu==2.6.0->-r /workspaces/data-analytics/requirements.txt (line 10)) (3.3.0)\n",
      "Requirement already satisfied: termcolor~=1.1.0 in /home/codeany/.local/lib/python3.8/site-packages (from tensorflow-cpu==2.6.0->-r /workspaces/data-analytics/requirements.txt (line 10)) (1.1.0)\n",
      "Requirement already satisfied: typing-extensions~=3.7.4 in /home/codeany/.local/lib/python3.8/site-packages (from tensorflow-cpu==2.6.0->-r /workspaces/data-analytics/requirements.txt (line 10)) (3.7.4.3)\n",
      "Requirement already satisfied: wheel~=0.35 in /home/codeany/.pyenv/versions/3.8.12/lib/python3.8/site-packages (from tensorflow-cpu==2.6.0->-r /workspaces/data-analytics/requirements.txt (line 10)) (0.41.2)\n",
      "Requirement already satisfied: wrapt~=1.12.1 in /home/codeany/.local/lib/python3.8/site-packages (from tensorflow-cpu==2.6.0->-r /workspaces/data-analytics/requirements.txt (line 10)) (1.12.1)\n",
      "Requirement already satisfied: gast==0.4.0 in /home/codeany/.local/lib/python3.8/site-packages (from tensorflow-cpu==2.6.0->-r /workspaces/data-analytics/requirements.txt (line 10)) (0.4.0)\n",
      "Requirement already satisfied: tensorboard~=2.6 in /home/codeany/.local/lib/python3.8/site-packages (from tensorflow-cpu==2.6.0->-r /workspaces/data-analytics/requirements.txt (line 10)) (2.14.0)\n",
      "Requirement already satisfied: tensorflow-estimator~=2.6 in /home/codeany/.local/lib/python3.8/site-packages (from tensorflow-cpu==2.6.0->-r /workspaces/data-analytics/requirements.txt (line 10)) (2.14.0)\n",
      "Requirement already satisfied: grpcio<2.0,>=1.37.0 in /home/codeany/.local/lib/python3.8/site-packages (from tensorflow-cpu==2.6.0->-r /workspaces/data-analytics/requirements.txt (line 10)) (1.59.0)\n",
      "Requirement already satisfied: entrypoints in /home/codeany/.local/lib/python3.8/site-packages (from altair<5->-r /workspaces/data-analytics/requirements.txt (line 13)) (0.4)\n",
      "Requirement already satisfied: jinja2 in /home/codeany/.pyenv/versions/3.8.12/lib/python3.8/site-packages (from altair<5->-r /workspaces/data-analytics/requirements.txt (line 13)) (3.1.2)\n",
      "Requirement already satisfied: jsonschema>=3.0 in /home/codeany/.pyenv/versions/3.8.12/lib/python3.8/site-packages (from altair<5->-r /workspaces/data-analytics/requirements.txt (line 13)) (4.19.1)\n",
      "Requirement already satisfied: toolz in /home/codeany/.local/lib/python3.8/site-packages (from altair<5->-r /workspaces/data-analytics/requirements.txt (line 13)) (0.12.0)\n",
      "Requirement already satisfied: importlib-resources>=1.4.0 in /home/codeany/.pyenv/versions/3.8.12/lib/python3.8/site-packages (from jsonschema>=3.0->altair<5->-r /workspaces/data-analytics/requirements.txt (line 13)) (6.1.0)\n",
      "Requirement already satisfied: jsonschema-specifications>=2023.03.6 in /home/codeany/.pyenv/versions/3.8.12/lib/python3.8/site-packages (from jsonschema>=3.0->altair<5->-r /workspaces/data-analytics/requirements.txt (line 13)) (2023.7.1)\n",
      "Requirement already satisfied: pkgutil-resolve-name>=1.3.10 in /home/codeany/.pyenv/versions/3.8.12/lib/python3.8/site-packages (from jsonschema>=3.0->altair<5->-r /workspaces/data-analytics/requirements.txt (line 13)) (1.3.10)\n",
      "Requirement already satisfied: referencing>=0.28.4 in /home/codeany/.pyenv/versions/3.8.12/lib/python3.8/site-packages (from jsonschema>=3.0->altair<5->-r /workspaces/data-analytics/requirements.txt (line 13)) (0.30.2)\n",
      "Requirement already satisfied: rpds-py>=0.7.1 in /home/codeany/.pyenv/versions/3.8.12/lib/python3.8/site-packages (from jsonschema>=3.0->altair<5->-r /workspaces/data-analytics/requirements.txt (line 13)) (0.10.6)\n",
      "Requirement already satisfied: MarkupSafe>=2.0 in /home/codeany/.pyenv/versions/3.8.12/lib/python3.8/site-packages (from jinja2->altair<5->-r /workspaces/data-analytics/requirements.txt (line 13)) (2.1.3)\n",
      "Requirement already satisfied: google-auth<3,>=1.6.3 in /home/codeany/.local/lib/python3.8/site-packages (from tensorboard~=2.6->tensorflow-cpu==2.6.0->-r /workspaces/data-analytics/requirements.txt (line 10)) (2.23.3)\n",
      "Requirement already satisfied: google-auth-oauthlib<1.1,>=0.5 in /home/codeany/.local/lib/python3.8/site-packages (from tensorboard~=2.6->tensorflow-cpu==2.6.0->-r /workspaces/data-analytics/requirements.txt (line 10)) (1.0.0)\n",
      "Requirement already satisfied: markdown>=2.6.8 in /home/codeany/.local/lib/python3.8/site-packages (from tensorboard~=2.6->tensorflow-cpu==2.6.0->-r /workspaces/data-analytics/requirements.txt (line 10)) (3.5)\n",
      "Requirement already satisfied: setuptools>=41.0.0 in /home/codeany/.pyenv/versions/3.8.12/lib/python3.8/site-packages (from tensorboard~=2.6->tensorflow-cpu==2.6.0->-r /workspaces/data-analytics/requirements.txt (line 10)) (68.2.2)\n",
      "Requirement already satisfied: tensorboard-data-server<0.8.0,>=0.7.0 in /home/codeany/.local/lib/python3.8/site-packages (from tensorboard~=2.6->tensorflow-cpu==2.6.0->-r /workspaces/data-analytics/requirements.txt (line 10)) (0.7.1)\n",
      "Requirement already satisfied: werkzeug>=1.0.1 in /home/codeany/.local/lib/python3.8/site-packages (from tensorboard~=2.6->tensorflow-cpu==2.6.0->-r /workspaces/data-analytics/requirements.txt (line 10)) (3.0.0)\n",
      "Requirement already satisfied: charset-normalizer<4,>=2 in /home/codeany/.pyenv/versions/3.8.12/lib/python3.8/site-packages (from requests->streamlit==0.85.0->-r /workspaces/data-analytics/requirements.txt (line 7)) (3.3.0)\n",
      "Requirement already satisfied: idna<4,>=2.5 in /home/codeany/.pyenv/versions/3.8.12/lib/python3.8/site-packages (from requests->streamlit==0.85.0->-r /workspaces/data-analytics/requirements.txt (line 7)) (3.4)\n",
      "Requirement already satisfied: urllib3<3,>=1.21.1 in /home/codeany/.pyenv/versions/3.8.12/lib/python3.8/site-packages (from requests->streamlit==0.85.0->-r /workspaces/data-analytics/requirements.txt (line 7)) (2.0.6)\n",
      "Requirement already satisfied: gitdb<5,>=4.0.1 in /home/codeany/.pyenv/versions/3.8.12/lib/python3.8/site-packages (from gitpython->streamlit==0.85.0->-r /workspaces/data-analytics/requirements.txt (line 7)) (4.0.10)\n",
      "Requirement already satisfied: backports.zoneinfo in /home/codeany/.local/lib/python3.8/site-packages (from tzlocal->streamlit==0.85.0->-r /workspaces/data-analytics/requirements.txt (line 7)) (0.2.1)\n",
      "Requirement already satisfied: smmap<6,>=3.0.1 in /home/codeany/.pyenv/versions/3.8.12/lib/python3.8/site-packages (from gitdb<5,>=4.0.1->gitpython->streamlit==0.85.0->-r /workspaces/data-analytics/requirements.txt (line 7)) (5.0.1)\n",
      "Requirement already satisfied: pyasn1-modules>=0.2.1 in /home/codeany/.local/lib/python3.8/site-packages (from google-auth<3,>=1.6.3->tensorboard~=2.6->tensorflow-cpu==2.6.0->-r /workspaces/data-analytics/requirements.txt (line 10)) (0.3.0)\n",
      "Requirement already satisfied: rsa<5,>=3.1.4 in /home/codeany/.local/lib/python3.8/site-packages (from google-auth<3,>=1.6.3->tensorboard~=2.6->tensorflow-cpu==2.6.0->-r /workspaces/data-analytics/requirements.txt (line 10)) (4.9)\n",
      "Requirement already satisfied: requests-oauthlib>=0.7.0 in /home/codeany/.local/lib/python3.8/site-packages (from google-auth-oauthlib<1.1,>=0.5->tensorboard~=2.6->tensorflow-cpu==2.6.0->-r /workspaces/data-analytics/requirements.txt (line 10)) (1.3.1)\n",
      "Requirement already satisfied: zipp>=3.1.0 in /home/codeany/.pyenv/versions/3.8.12/lib/python3.8/site-packages (from importlib-resources>=1.4.0->jsonschema>=3.0->altair<5->-r /workspaces/data-analytics/requirements.txt (line 13)) (3.17.0)\n",
      "Requirement already satisfied: importlib-metadata>=4.4 in /home/codeany/.pyenv/versions/3.8.12/lib/python3.8/site-packages (from markdown>=2.6.8->tensorboard~=2.6->tensorflow-cpu==2.6.0->-r /workspaces/data-analytics/requirements.txt (line 10)) (6.8.0)\n",
      "Requirement already satisfied: pyasn1<0.6.0,>=0.4.6 in /home/codeany/.local/lib/python3.8/site-packages (from pyasn1-modules>=0.2.1->google-auth<3,>=1.6.3->tensorboard~=2.6->tensorflow-cpu==2.6.0->-r /workspaces/data-analytics/requirements.txt (line 10)) (0.5.0)\n",
      "Requirement already satisfied: oauthlib>=3.0.0 in /home/codeany/.local/lib/python3.8/site-packages (from requests-oauthlib>=0.7.0->google-auth-oauthlib<1.1,>=0.5->tensorboard~=2.6->tensorflow-cpu==2.6.0->-r /workspaces/data-analytics/requirements.txt (line 10)) (3.2.2)\n",
      "Note: you may need to restart the kernel to use updated packages.\n"
     ]
    }
   ],
   "source": [
    "%pip install -r /workspaces/data-analytics/requirements.txt"
   ]
  },
  {
   "cell_type": "code",
   "execution_count": 2,
   "metadata": {},
   "outputs": [],
   "source": [
    "import numpy\n",
    "import os"
   ]
  },
  {
   "cell_type": "markdown",
   "metadata": {
    "id": "cqP-UeN-z3i2"
   },
   "source": [
    "## Change working directory"
   ]
  },
  {
   "cell_type": "code",
   "execution_count": 3,
   "metadata": {
    "id": "wZfF_j-Bz3i4",
    "outputId": "66943449-1436-4c3d-85c7-b85f9f78349b"
   },
   "outputs": [
    {
     "data": {
      "text/plain": [
       "'/workspaces/data-analytics/jupyter_notebooks'"
      ]
     },
     "execution_count": 3,
     "metadata": {},
     "output_type": "execute_result"
    }
   ],
   "source": [
    "current_dir = os.getcwd()\n",
    "current_dir"
   ]
  },
  {
   "cell_type": "markdown",
   "metadata": {
    "id": "9MWW8E7lz3i7"
   },
   "source": [
    "We want to make the parent of the current directory the new current directory\n",
    "* os.path.dirname() gets the parent directory\n",
    "* os.chir() defines the new current directory"
   ]
  },
  {
   "cell_type": "code",
   "execution_count": 4,
   "metadata": {
    "id": "TwHsQRWjz3i9",
    "outputId": "86849db3-cd2f-4cc5-ebb8-2d0caafa1a2c"
   },
   "outputs": [
    {
     "name": "stdout",
     "output_type": "stream",
     "text": [
      "You set a new current directory\n"
     ]
    }
   ],
   "source": [
    "os.chdir(os.path.dirname(current_dir))\n",
    "print(\"You set a new current directory\")"
   ]
  },
  {
   "cell_type": "code",
   "execution_count": 5,
   "metadata": {
    "id": "vz3S-_kjz3jA",
    "outputId": "00b79ae4-75d0-4a96-d193-ac9ef9847ea2"
   },
   "outputs": [
    {
     "data": {
      "text/plain": [
       "'/workspaces/data-analytics'"
      ]
     },
     "execution_count": 5,
     "metadata": {},
     "output_type": "execute_result"
    }
   ],
   "source": [
    "current_dir = os.getcwd()\n",
    "current_dir"
   ]
  },
  {
   "cell_type": "markdown",
   "metadata": {
    "id": "-mavJ8DibrcQ"
   },
   "source": [
    "## Install Kaggle"
   ]
  },
  {
   "cell_type": "code",
   "execution_count": 6,
   "metadata": {},
   "outputs": [
    {
     "name": "stdout",
     "output_type": "stream",
     "text": [
      "Requirement already satisfied: kaggle==1.5.12 in /home/codeany/.local/lib/python3.8/site-packages (1.5.12)\n",
      "Requirement already satisfied: six>=1.10 in /home/codeany/.local/lib/python3.8/site-packages (from kaggle==1.5.12) (1.15.0)\n",
      "Requirement already satisfied: certifi in /home/codeany/.pyenv/versions/3.8.12/lib/python3.8/site-packages (from kaggle==1.5.12) (2023.7.22)\n",
      "Requirement already satisfied: python-dateutil in /home/codeany/.pyenv/versions/3.8.12/lib/python3.8/site-packages (from kaggle==1.5.12) (2.8.2)\n",
      "Requirement already satisfied: requests in /home/codeany/.pyenv/versions/3.8.12/lib/python3.8/site-packages (from kaggle==1.5.12) (2.31.0)\n",
      "Requirement already satisfied: tqdm in /home/codeany/.local/lib/python3.8/site-packages (from kaggle==1.5.12) (4.66.1)\n",
      "Requirement already satisfied: python-slugify in /home/codeany/.local/lib/python3.8/site-packages (from kaggle==1.5.12) (8.0.1)\n",
      "Requirement already satisfied: urllib3 in /home/codeany/.pyenv/versions/3.8.12/lib/python3.8/site-packages (from kaggle==1.5.12) (2.0.6)\n",
      "Requirement already satisfied: text-unidecode>=1.3 in /home/codeany/.local/lib/python3.8/site-packages (from python-slugify->kaggle==1.5.12) (1.3)\n",
      "Requirement already satisfied: charset-normalizer<4,>=2 in /home/codeany/.pyenv/versions/3.8.12/lib/python3.8/site-packages (from requests->kaggle==1.5.12) (3.3.0)\n",
      "Requirement already satisfied: idna<4,>=2.5 in /home/codeany/.pyenv/versions/3.8.12/lib/python3.8/site-packages (from requests->kaggle==1.5.12) (3.4)\n"
     ]
    }
   ],
   "source": [
    "!pip install kaggle==1.5.12"
   ]
  },
  {
   "cell_type": "markdown",
   "metadata": {},
   "source": [
    "### Change Kaggle configuration directory to current corking directory and permission of kaggle authenticaion json:"
   ]
  },
  {
   "cell_type": "code",
   "execution_count": 7,
   "metadata": {},
   "outputs": [],
   "source": [
    "os.environ['KAGGLE_CONFIG_DIR'] = os.getcwd()\n",
    "! chmod 600 kaggle.json"
   ]
  },
  {
   "cell_type": "markdown",
   "metadata": {},
   "source": [
    "## Set Kaggle Dataset and Download it:"
   ]
  },
  {
   "cell_type": "code",
   "execution_count": 8,
   "metadata": {},
   "outputs": [
    {
     "name": "stdout",
     "output_type": "stream",
     "text": [
      "Downloading pizza-not-pizza.zip to inputs/carlosrunner/pizza-not-pizza\n",
      " 95%|█████████████████████████████████████▏ | 96.0M/101M [00:01<00:00, 80.5MB/s]\n",
      "100%|████████████████████████████████████████| 101M/101M [00:01<00:00, 53.2MB/s]\n"
     ]
    }
   ],
   "source": [
    "KaggleDatasetPath = \"carlosrunner/pizza-not-pizza\"\n",
    "DestinationFolder = \"inputs/carlosrunner/pizza-not-pizza\"   \n",
    "! kaggle datasets download -d {KaggleDatasetPath} -p {DestinationFolder}"
   ]
  },
  {
   "cell_type": "code",
   "execution_count": 9,
   "metadata": {
    "id": "1eLEkw5O0ECa"
   },
   "outputs": [],
   "source": [
    "import zipfile\n",
    "with zipfile.ZipFile(DestinationFolder + '/pizza-not-pizza.zip', 'r') as zip_ref:\n",
    "    zip_ref.extractall(DestinationFolder)\n",
    "\n",
    "os.remove(DestinationFolder + '/pizza-not-pizza.zip')"
   ]
  },
  {
   "cell_type": "markdown",
   "metadata": {
    "id": "ZY3l0-AxO93d"
   },
   "source": [
    "---"
   ]
  },
  {
   "cell_type": "markdown",
   "metadata": {},
   "source": [
    "# Data Preparation"
   ]
  },
  {
   "cell_type": "markdown",
   "metadata": {
    "id": "ZY3l0-AxO93d"
   },
   "source": [
    "---"
   ]
  },
  {
   "cell_type": "markdown",
   "metadata": {
    "id": "uFQo3ycuO-v6"
   },
   "source": [
    "## Data Cleaning"
   ]
  },
  {
   "cell_type": "markdown",
   "metadata": {},
   "source": [
    "### Check and remove non-image files"
   ]
  },
  {
   "cell_type": "code",
   "execution_count": 10,
   "metadata": {},
   "outputs": [],
   "source": [
    "def remove_non_image_files(my_data_dir):\n",
    "    image_extension = ('.png', '.jpg', '.jpeg')\n",
    "    folders = os.listdir(my_data_dir)\n",
    "    for folder in folders:\n",
    "        files = os.listdir(my_data_dir + '/' + folder)\n",
    "        # print(files)\n",
    "        i = []\n",
    "        j = []\n",
    "        for given_file in files:\n",
    "            if not given_file.lower().endswith(image_extension):\n",
    "                file_location = my_data_dir + '/' + folder + '/' + given_file\n",
    "                os.remove(file_location)  # remove non image file\n",
    "                i.append(1)\n",
    "            else:\n",
    "                j.append(1)\n",
    "                pass\n",
    "        print(f\"Folder: {folder} - has image file\", len(j))\n",
    "        print(f\"Folder: {folder} - has non-image file\", len(i))"
   ]
  },
  {
   "cell_type": "code",
   "execution_count": 12,
   "metadata": {},
   "outputs": [
    {
     "name": "stdout",
     "output_type": "stream",
     "text": [
      "Folder: pizza - has image file 983\n",
      "Folder: pizza - has non-image file 0\n",
      "Folder: not_pizza - has image file 983\n",
      "Folder: not_pizza - has non-image file 0\n"
     ]
    }
   ],
   "source": [
    "remove_non_image_files(my_data_dir='inputs/carlosrunner/pizza-not-pizza/pizza_not_pizza')"
   ]
  },
  {
   "cell_type": "markdown",
   "metadata": {},
   "source": [
    "As found previously, there is no explicitly missing or incorrectly formatted data. Therefore there is no need to perform any imputation on the dataset and it can be split into Train and Test sets as is."
   ]
  },
  {
   "cell_type": "markdown",
   "metadata": {},
   "source": [
    "## Split train validation test set"
   ]
  },
  {
   "cell_type": "code",
   "execution_count": 13,
   "metadata": {},
   "outputs": [],
   "source": [
    "import os\n",
    "import shutil\n",
    "import random\n",
    "import joblib\n",
    "\n",
    "\n",
    "def split_train_validation_test_images(my_data_dir, train_set_ratio, validation_set_ratio, test_set_ratio):\n",
    "\n",
    "    if train_set_ratio + validation_set_ratio + test_set_ratio != 1.0:\n",
    "        print(\"train_set_ratio + validation_set_ratio + test_set_ratio should sum to 1.0\")\n",
    "        return\n",
    "\n",
    "    # gets classes labels\n",
    "    labels = os.listdir(my_data_dir)  # it should get only the folder name\n",
    "    if 'test' in labels:\n",
    "        pass\n",
    "    else:\n",
    "        # create train, test folders with classes labels sub-folder\n",
    "        for folder in ['train', 'validation', 'test']:\n",
    "            for label in labels:\n",
    "                os.makedirs(name=my_data_dir + '/' + folder + '/' + label)\n",
    "\n",
    "        for label in labels:\n",
    "\n",
    "            files = os.listdir(my_data_dir + '/' + label)\n",
    "            random.shuffle(files)\n",
    "\n",
    "            train_set_files_qty = int(len(files) * train_set_ratio)\n",
    "            validation_set_files_qty = int(len(files) * validation_set_ratio)\n",
    "\n",
    "            count = 1\n",
    "            for file_name in files:\n",
    "                if count <= train_set_files_qty:\n",
    "                    # move a given file to the train set\n",
    "                    shutil.move(my_data_dir + '/' + label + '/' + file_name,\n",
    "                                my_data_dir + '/train/' + label + '/' + file_name)\n",
    "\n",
    "                elif count <= (train_set_files_qty + validation_set_files_qty):\n",
    "                    # move a given file to the validation set\n",
    "                    shutil.move(my_data_dir + '/' + label + '/' + file_name,\n",
    "                                my_data_dir + '/validation/' + label + '/' + file_name)\n",
    "\n",
    "                else:\n",
    "                    # move given file to test set\n",
    "                    shutil.move(my_data_dir + '/' + label + '/' + file_name,\n",
    "                                my_data_dir + '/test/' + label + '/' + file_name)\n",
    "\n",
    "                count += 1\n",
    "\n",
    "            os.rmdir(my_data_dir + '/' + label)"
   ]
  },
  {
   "cell_type": "code",
   "execution_count": 14,
   "metadata": {},
   "outputs": [],
   "source": [
    "split_train_validation_test_images(my_data_dir=f\"inputs/carlosrunner/pizza-not-pizza/pizza_not_pizza\",\n",
    "                                   train_set_ratio=0.7,\n",
    "                                   validation_set_ratio=0.1,\n",
    "                                   test_set_ratio=0.2\n",
    "                                   )"
   ]
  },
  {
   "cell_type": "markdown",
   "metadata": {},
   "source": [
    "---"
   ]
  },
  {
   "cell_type": "markdown",
   "metadata": {},
   "source": [
    "NOTE"
   ]
  },
  {
   "cell_type": "markdown",
   "metadata": {},
   "source": [
    "---"
   ]
  },
  {
   "cell_type": "markdown",
   "metadata": {
    "id": "ltNetd085qHf"
   },
   "source": [
    "# Push files to Repo"
   ]
  },
  {
   "cell_type": "markdown",
   "metadata": {},
   "source": [
    "* If you don't need to push files to Repo, you may replace this section with \"Conclusions and Next Steps\" and state your conclusions and next steps."
   ]
  },
  {
   "cell_type": "code",
   "execution_count": null,
   "metadata": {
    "id": "aKlnIozA4eQO",
    "outputId": "fd09bc1f-adb1-4511-f6ce-492a6af570c0"
   },
   "outputs": [],
   "source": [
    "# import os\n",
    "# try:\n",
    "#     os.makedirs(name='outputs/datasets/cleaned')\n",
    "# except Exception as e:\n",
    "#     print(e)\n"
   ]
  },
  {
   "cell_type": "code",
   "execution_count": null,
   "metadata": {},
   "outputs": [],
   "source": []
  },
  {
   "cell_type": "code",
   "execution_count": null,
   "metadata": {},
   "outputs": [],
   "source": []
  }
 ],
 "metadata": {
  "accelerator": "GPU",
  "colab": {
   "name": "Data Practitioner Jupyter Notebook.ipynb",
   "provenance": [],
   "toc_visible": true
  },
  "interpreter": {
   "hash": "8b8334dab9339717f727a1deaf837b322d7a41c20d15cc86be99a8e69ceec8ce"
  },
  "kernelspec": {
   "display_name": "Python 3 (ipykernel)",
   "language": "python",
   "name": "python3"
  },
  "language_info": {
   "codemirror_mode": {
    "name": "ipython",
    "version": 3
   },
   "file_extension": ".py",
   "mimetype": "text/x-python",
   "name": "python",
   "nbconvert_exporter": "python",
   "pygments_lexer": "ipython3",
   "version": "3.8.12"
  }
 },
 "nbformat": 4,
 "nbformat_minor": 4
}
